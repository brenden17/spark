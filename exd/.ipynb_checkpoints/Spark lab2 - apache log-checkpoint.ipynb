{
 "cells": [
  {
   "cell_type": "code",
   "execution_count": 1,
   "metadata": {
    "collapsed": false
   },
   "outputs": [],
   "source": [
    "import re\n",
    "import datetime\n",
    "from operator import add\n",
    "\n",
    "from pyspark.sql import Row\n",
    "\n",
    "month_map = {'Jan': 1, 'Feb': 2, 'Mar':3, 'Apr':4, 'May':5, 'Jun':6, 'Jul':7,\n",
    "    'Aug':8,  'Sep': 9, 'Oct':10, 'Nov': 11, 'Dec': 12}\n",
    "\n",
    "def parse_apache_time(s):\n",
    "    \"\"\" Convert Apache time format into a Python datetime object\n",
    "    Args:\n",
    "        s (str): date and time in Apache time format\n",
    "    Returns:\n",
    "        datetime: datetime object (ignore timezone for now)\n",
    "    \"\"\"\n",
    "    return datetime.datetime(int(s[7:11]),\n",
    "                             month_map[s[3:6]],\n",
    "                             int(s[0:2]),\n",
    "                             int(s[12:14]),\n",
    "                             int(s[15:17]),\n",
    "                             int(s[18:20]))\n",
    "\n",
    "\n",
    "def parseApacheLogLine(logline):\n",
    "    \"\"\" Parse a line in the Apache Common Log format\n",
    "    Args:\n",
    "        logline (str): a line of text in the Apache Common Log format\n",
    "    Returns:\n",
    "        tuple: either a dictionary containing the parts of the Apache Access Log and 1,\n",
    "               or the original invalid log line and 0\n",
    "    \"\"\"\n",
    "    match = re.search(APACHE_ACCESS_LOG_PATTERN, logline)\n",
    "    if match is None:\n",
    "        return (logline, 0)\n",
    "    size_field = match.group(9)\n",
    "    if size_field == '-':\n",
    "        size = long(0)\n",
    "    else:\n",
    "        size = long(match.group(9))\n",
    "    return (Row(\n",
    "        host          = match.group(1),\n",
    "        client_identd = match.group(2),\n",
    "        user_id       = match.group(3),\n",
    "        date_time     = parse_apache_time(match.group(4)),\n",
    "        method        = match.group(5),\n",
    "        endpoint      = match.group(6),\n",
    "        protocol      = match.group(7),\n",
    "        response_code = int(match.group(8)),\n",
    "        content_size  = size\n",
    "    ), 1)\n",
    "\n",
    "# APACHE_ACCESS_LOG_PATTERN = '^(\\S+) (\\S+) (\\S+) \\[([\\w:/]+\\s[+\\-]\\d{4})\\] \"(\\S+) (\\S+)\\s*(\\S*)\" (\\d{3}) (\\S+)'\n",
    "APACHE_ACCESS_LOG_PATTERN = '^(\\S+) (\\S+) (\\S+) \\[([\\w:/]+\\s[+\\-]\\d{4})\\] \"(\\S+) (\\S+)\\s*(\\S*)\" (\\d{3}) (\\S+)'"
   ]
  },
  {
   "cell_type": "code",
   "execution_count": null,
   "metadata": {
    "collapsed": false
   },
   "outputs": [],
   "source": [
    "# 127.0.0.1 - - [01/Aug/1995:00:00:01 -0400] \"GET /images/launch-logo.gif HTTP/1.0\" 200 1839\n",
    "# 127.0.0.1 - - [01/Aug/1995:00:00:01 -0400] \"GET /images/launch-logo.gif HTTP/1.0\" 200 1839\n",
    "\n",
    "# d104.aa.net - - [01/Jul/1995:00:00:13 -0400] \"GET /shuttle/countdown/ HTTP/1.0\" 200 3985"
   ]
  },
  {
   "cell_type": "code",
   "execution_count": 3,
   "metadata": {
    "collapsed": false
   },
   "outputs": [
    {
     "name": "stdout",
     "output_type": "stream",
     "text": [
      "Number of invalid logline: 864\n",
      "Invalid logline: 204.120.229.63 - - [01/Jul/1995:04:29:05 -0400] \"GET /history/history.html                                                 hqpao/hqpao_home.html HTTP/1.0\" 200 1502\n",
      "Invalid logline: nccse.gsfc.nasa.gov - - [01/Jul/1995:07:36:13 -0400] \"GET /shuttle/missions/missions.html Shuttle Launches from Kennedy Space Center HTTP/1.0\" 200 8677\n",
      "Invalid logline: ix-nbw-nj1-22.ix.netcom.com - - [01/Jul/1995:10:42:09 -0400] \"GET /finger @net.com HTTP/1.0\" 404 -\n",
      "Invalid logline: gpotterpc.llnl.gov - - [01/Jul/1995:22:26:51 -0400] \"GET /htbin/wais.pl?orbit sts71 HTTP/1.0\" 200 317\n",
      "Invalid logline: wxs6-7.worldaccess.nl - - [02/Jul/1995:08:09:27 -0400] \"GET / /   HTTP/1.0\" 200 7074\n",
      "Invalid logline: wxs6-7.worldaccess.nl - - [02/Jul/1995:08:11:20 -0400] \"GET / /facts/facts.html HTTP/1.0\" 200 7074\n",
      "Invalid logline: s29.abqslip.indirect.com - - [02/Jul/1995:14:24:26 -0400] \"GET /htbin/wais.pl?Wake Shield HTTP/1.0\" 200 7020\n",
      "Invalid logline: pipe3.nyc.pipeline.com - - [02/Jul/1995:22:24:41 -0400] \"GET /shuttle/countdown/dy �?shuttle%20tracking HTTP/1.0\" 404 -\n",
      "Invalid logline: pipe3.nyc.pipeline.com - - [02/Jul/1995:22:25:48 -0400] \"GET /shuttle/countdown/dy �?tracking%20station HTTP/1.0\" 404 -\n",
      "Invalid logline: wxs6-4.worldaccess.nl - - [03/Jul/1995:08:14:40 -0400] \"GET / /   HTTP/1.0\" 304 0\n",
      "Invalid logline: atl4-m52.ed.ac.uk - - [03/Jul/1995:09:31:12 -0400] \"GET /images/NASA-logosmall.gif align=left HTTP/1.0\" 200 786\n",
      "Invalid logline: atl4-m52.ed.ac.uk - - [03/Jul/1995:09:32:20 -0400] \"GET /images/NASA-logosmall.gif align=left HTTP/1.0\" 200 786\n",
      "Invalid logline: atl4-m52.ed.ac.uk - - [03/Jul/1995:09:32:47 -0400] \"GET /images/NASA-logosmall.gif align=left HTTP/1.0\" 200 786\n",
      "Invalid logline: atl4-m52.ed.ac.uk - - [03/Jul/1995:09:33:50 -0400] \"GET /images/NASA-logosmall.gif align=left HTTP/1.0\" 200 786\n",
      "Invalid logline: atl4-m52.ed.ac.uk - - [03/Jul/1995:09:35:27 -0400] \"GET /images/NASA-logosmall.gif align=left HTTP/1.0\" 200 786\n",
      "Invalid logline: atl4-m52.ed.ac.uk - - [03/Jul/1995:09:36:21 -0400] \"GET /images/NASA-logosmall.gif align=left HTTP/1.0\" 200 786\n",
      "Invalid logline: atl4-m52.ed.ac.uk - - [03/Jul/1995:09:38:23 -0400] \"GET /images/NASA-logosmall.gif align=left HTTP/1.0\" 200 786\n",
      "Invalid logline: atl4-m52.ed.ac.uk - - [03/Jul/1995:09:39:10 -0400] \"GET /images/NASA-logosmall.gif align=left HTTP/1.0\" 200 786\n",
      "Invalid logline: atl4-m52.ed.ac.uk - - [03/Jul/1995:09:40:08 -0400] \"GET /images/NASA-logosmall.gif align=left HTTP/1.0\" 200 786\n",
      "Invalid logline: atl4-m52.ed.ac.uk - - [03/Jul/1995:09:44:39 -0400] \"GET /images/NASA-logosmall.gif align=left HTTP/1.0\" 200 786\n",
      "Read 1891715 lines, successfully parsed 1890851 lines, failed to parse 864 lines\n"
     ]
    }
   ],
   "source": [
    "def parseLogs():\n",
    "    \"\"\" Read and parse log file \"\"\"\n",
    "#     parsed_logs = (sc\n",
    "#                    .textFile('access_log_Jul95')\n",
    "#                    .map(parseApacheLogLine)\n",
    "#                    .cache())\n",
    "\n",
    "    access_logs = (parsed_logs\n",
    "                   .filter(lambda s: s[1] == 1)\n",
    "                   .map(lambda s: s[0])\n",
    "                   .cache())\n",
    "\n",
    "    failed_logs = (parsed_logs\n",
    "                   .filter(lambda s: s[1] == 0)\n",
    "                   .map(lambda s: s[0]))\n",
    "    failed_logs_count = failed_logs.count()\n",
    "    if failed_logs_count > 0:\n",
    "        print 'Number of invalid logline: %d' % failed_logs.count()\n",
    "        for line in failed_logs.take(20):\n",
    "            print 'Invalid logline: %s' % line\n",
    "\n",
    "    print 'Read %d lines, successfully parsed %d lines, failed to parse %d lines' % (parsed_logs.count(), access_logs.count(), failed_logs.count())\n",
    "    return parsed_logs, access_logs, failed_logs\n",
    "\n",
    "\n",
    "parsed_logs, access_logs, failed_logs = parseLogs()\n",
    "\n"
   ]
  },
  {
   "cell_type": "code",
   "execution_count": 25,
   "metadata": {
    "collapsed": false
   },
   "outputs": [
    {
     "name": "stdout",
     "output_type": "stream",
     "text": [
      "Found 7 response codes\n",
      "Response Code Counts: [(302, 46569), (304, 132626), (500, 62), (200, 1700743), (403, 54), (501, 14), (404, 10783)]\n"
     ]
    }
   ],
   "source": [
    "responseCodeToCount = (access_logs\n",
    "                       .map(lambda log: (log.response_code, 1))\n",
    "                       .reduceByKey(add)\n",
    "                       .cache())\n",
    "esponseCodeToCountList = responseCodeToCount.take(100)\n",
    "print 'Found %d response codes' % len(responseCodeToCountList)\n",
    "print 'Response Code Counts: %s' % responseCodeToCountList"
   ]
  },
  {
   "cell_type": "code",
   "execution_count": 8,
   "metadata": {
    "collapsed": false
   },
   "outputs": [
    {
     "name": "stdout",
     "output_type": "stream",
     "text": [
      "[302, 304, 500, 200, 403, 501, 404]\n",
      "[0.02, 0.07, 0.0, 0.9, 0.0, 0.0, 0.01]\n"
     ]
    }
   ],
   "source": [
    "labels = responseCodeToCount.map(lambda (x, y): x).collect()\n",
    "print labels\n",
    "count = access_logs.count()\n",
    "fracs = responseCodeToCount.map(lambda (x, y): (float(y) / count)).collect()\n",
    "print [round(frac, 3) for frac in fracs]\n"
   ]
  },
  {
   "cell_type": "code",
   "execution_count": 9,
   "metadata": {
    "collapsed": false
   },
   "outputs": [
    {
     "data": {
      "image/png": "[encoded data removed]",
      "text/plain": [
       "<matplotlib.figure.Figure at 0x7f63e1a2b550>"
      ]
     },
     "metadata": {},
     "output_type": "display_data"
    }
   ],
   "source": [
    "import matplotlib.pyplot as plt\n",
    "\n",
    "\n",
    "def pie_pct_format(value):\n",
    "    \"\"\" Determine the appropriate format string for the pie chart percentage label\n",
    "    Args:\n",
    "        value: value of the pie slice\n",
    "    Returns:\n",
    "        str: formated string label; if the slice is too small to fit, returns an empty string for label\n",
    "    \"\"\"\n",
    "    return '' if value < 7 else '%.0f%%' % value\n",
    "\n",
    "fig = plt.figure(figsize=(4.5, 4.5), facecolor='white', edgecolor='white')\n",
    "colors = ['yellowgreen', 'lightskyblue', 'gold', 'purple', 'lightcoral', 'yellow', 'black']\n",
    "explode = (0.05, 0.05, 0.1, 0, 0, 0, 0)\n",
    "patches, texts, autotexts = plt.pie(fracs, labels=labels, colors=colors,\n",
    "                                    explode=explode, autopct=pie_pct_format,\n",
    "                                    shadow=False,  startangle=125)\n",
    "for text, autotext in zip(texts, autotexts):\n",
    "    if autotext.get_text() == '':\n",
    "        text.set_text('')  # If the slice is small to fit, don't show a text label\n",
    "plt.legend(labels, loc=(0.80, -0.1), shadow=True)\n",
    "pass\n",
    "\n"
   ]
  },
  {
   "cell_type": "code",
   "execution_count": 10,
   "metadata": {
    "collapsed": false
   },
   "outputs": [
    {
     "name": "stdout",
     "output_type": "stream",
     "text": [
      "Any 20 hosts that have accessed more then 10 times: [u'calvert.psc.rochester.edu', u'sl137.active.ch', u'slip104-134.mn.us.ibm.net', u'corning.cat.rpi.edu', u'sjackson.seanet.com', u'194.20.34.29', u'mischka.csn.tu-chemnitz.de', u'anp10.intercon.net', u'philly13.voicenet.com', u'128.158.55.143', u'pm2-01.magicnet.net', u'198.70.210.51', u'user.40.169.dcccd.edu', u'ginec01.unimo.it', u'gs1.cs.ttu.edu', u'wilma.netinfo.com.au', u'165.164.140.189', u'jabrown.remote.ualberta.ca', u'dialup96-033.swipnet.se', u'pckcb1.cad.ksc.nasa.gov']\n"
     ]
    }
   ],
   "source": [
    "# Any hosts that has accessed the server more than 10 times.\n",
    "hostCountPairTuple = access_logs.map(lambda log: (log.host, 1))\n",
    "\n",
    "hostSum = hostCountPairTuple.reduceByKey(lambda a, b : a + b)\n",
    "\n",
    "hostMoreThan10 = hostSum.filter(lambda s: s[1] > 10)\n",
    "\n",
    "hostsPick20 = (hostMoreThan10\n",
    "               .map(lambda s: s[0])\n",
    "               .take(20))\n",
    "\n",
    "print 'Any 20 hosts that have accessed more then 10 times: %s' % hostsPick20"
   ]
  },
  {
   "cell_type": "code",
   "execution_count": 11,
   "metadata": {
    "collapsed": false
   },
   "outputs": [
    {
     "data": {
      "image/png": "[encoded data removed]",
      "text/plain": [
       "<matplotlib.figure.Figure at 0x7f63e1a27cd0>"
      ]
     },
     "metadata": {},
     "output_type": "display_data"
    }
   ],
   "source": [
    "endpoints = (access_logs\n",
    "             .map(lambda log: (log.endpoint, 1))\n",
    "             .reduceByKey(lambda a, b : a + b)\n",
    "             .cache())\n",
    "ends = endpoints.map(lambda (x, y): x).collect()\n",
    "counts = endpoints.map(lambda (x, y): y).collect()\n",
    "\n",
    "fig = plt.figure(figsize=(8,4.2), facecolor='white', edgecolor='white')\n",
    "plt.axis([0, len(ends), 0, max(counts)])\n",
    "plt.grid(b=True, which='major', axis='y')\n",
    "plt.xlabel('Endpoints')\n",
    "plt.ylabel('Number of Hits')\n",
    "plt.plot(counts)\n",
    "pass\n",
    "\n"
   ]
  },
  {
   "cell_type": "markdown",
   "metadata": {},
   "source": [
    "## Top Ten Error Endpoints"
   ]
  },
  {
   "cell_type": "code",
   "execution_count": 17,
   "metadata": {
    "collapsed": false
   },
   "outputs": [],
   "source": [
    "not200 = access_logs.filter(lambda log: log.response_code != 200)\n",
    "not200.cache()"
   ]
  },
  {
   "cell_type": "code",
   "execution_count": 21,
   "metadata": {
    "collapsed": false
   },
   "outputs": [
    {
     "data": {
      "text/plain": [
       "[(u'/images/NASA-logosmall.gif', 21010),\n",
       " (u'/images/KSC-logosmall.gif', 12435),\n",
       " (u'/images/MOSAIC-logosmall.gif', 6628),\n",
       " (u'/images/USA-logosmall.gif', 6577),\n",
       " (u'/images/WORLD-logosmall.gif', 6413),\n",
       " (u'/images/ksclogo-medium.gif', 5837),\n",
       " (u'/images/launch-logo.gif', 4628),\n",
       " (u'/shuttle/countdown/liftoff.html', 3509),\n",
       " (u'/shuttle/countdown/', 3345),\n",
       " (u'/shuttle/countdown/images/cdtclock.gif', 3251)]"
      ]
     },
     "execution_count": 21,
     "metadata": {},
     "output_type": "execute_result"
    }
   ],
   "source": [
    "endpointCountPairTuple = not200.map(lambda log: (log.endpoint, 1))\n",
    "# endpointCountPairTuple.take(5)\n",
    "endpointSum = endpointCountPairTuple.reduceByKey(lambda x, y : x + y)\n",
    "endpointSum.takeOrdered(10, key = lambda x: -x[1])"
   ]
  },
  {
   "cell_type": "markdown",
   "metadata": {},
   "source": [
    "## Number of Unique Hosts"
   ]
  },
  {
   "cell_type": "code",
   "execution_count": 22,
   "metadata": {
    "collapsed": false
   },
   "outputs": [],
   "source": [
    "hosts = access_logs.map(lambda log: (log.host, 1))"
   ]
  },
  {
   "cell_type": "code",
   "execution_count": 23,
   "metadata": {
    "collapsed": false
   },
   "outputs": [
    {
     "name": "stdout",
     "output_type": "stream",
     "text": [
      "Unique hosts: 81969\n"
     ]
    }
   ],
   "source": [
    "uniqueHosts = hosts.distinct()\n",
    "\n",
    "uniqueHostCount = uniqueHosts.count()\n",
    "print 'Unique hosts: %d' % uniqueHostCount"
   ]
  },
  {
   "cell_type": "markdown",
   "metadata": {},
   "source": [
    "##  Number of Unique Daily Hosts"
   ]
  },
  {
   "cell_type": "code",
   "execution_count": 32,
   "metadata": {
    "collapsed": false
   },
   "outputs": [
    {
     "data": {
      "text/plain": [
       "[((u'bill.ksc.nasa.gov', '19950711'), 1394),\n",
       " ((u'indy.gradient.com', '19950712'), 1356),\n",
       " ((u'siltb10.orl.mmc.com', '19950721'), 1354),\n",
       " ((u'bill.ksc.nasa.gov', '19950712'), 1317),\n",
       " ((u'piweba3y.prodigy.com', '19950716'), 1280),\n",
       " ((u'piweba4y.prodigy.com', '19950716'), 1269),\n",
       " ((u'piweba3y.prodigy.com', '19950713'), 1202),\n",
       " ((u'piweba3y.prodigy.com', '19950704'), 1199),\n",
       " ((u'rush.internic.net', '19950713'), 1119),\n",
       " ((u'piweba3y.prodigy.com', '19950703'), 1067)]"
      ]
     },
     "execution_count": 32,
     "metadata": {},
     "output_type": "execute_result"
    }
   ],
   "source": [
    "dayToHostPairTuple = access_logs.map(lambda log: (log.host, log.date_time.strftime(\"%Y%m%d\")))\n",
    "dayToHostPairTuple.map(lambda l: (l, 1)).reduceByKey(add).takeOrdered(10, key = lambda x: -x[1])\n",
    "# dayGroupedHosts = dayToHostPairTuple.reduce()"
   ]
  },
  {
   "cell_type": "code",
   "execution_count": 38,
   "metadata": {
    "collapsed": false
   },
   "outputs": [
    {
     "data": {
      "text/plain": [
       "[('19950714', 84101),\n",
       " ('19950720', 66589),\n",
       " ('19950701', 64710),\n",
       " ('19950713', 133952),\n",
       " ('19950707', 87208),\n",
       " ('19950715', 45512),\n",
       " ('19950723', 39195),\n",
       " ('19950709', 35261),\n",
       " ('19950725', 62698),\n",
       " ('19950706', 100956),\n",
       " ('19950716', 47846),\n",
       " ('19950722', 35256),\n",
       " ('19950708', 38861),\n",
       " ('19950724', 64251),\n",
       " ('19950705', 94572),\n",
       " ('19950717', 74976),\n",
       " ('19950727', 61674),\n",
       " ('19950704', 70444),\n",
       " ('19950710', 72852),\n",
       " ('19950718', 64265),\n",
       " ('19950726', 58843),\n",
       " ('19950703', 89542),\n",
       " ('19950711', 80315),\n",
       " ('19950728', 27118),\n",
       " ('19950721', 64627),\n",
       " ('19950702', 60260),\n",
       " ('19950712', 92230),\n",
       " ('19950719', 72737)]"
      ]
     },
     "execution_count": 38,
     "metadata": {},
     "output_type": "execute_result"
    }
   ],
   "source": [
    "from operator import add\n",
    "access_logs.map(lambda log: (log.date_time.strftime(\"%Y%m%d\"), 1)).reduceByKey(add).take(40)\n"
   ]
  },
  {
   "cell_type": "code",
   "execution_count": null,
   "metadata": {
    "collapsed": false
   },
   "outputs": [],
   "source": []
  }
 ],
 "metadata": {
  "kernelspec": {
   "display_name": "Python 2",
   "language": "python",
   "name": "python2"
  }
 },
 "nbformat": 4,
 "nbformat_minor": 0
}
