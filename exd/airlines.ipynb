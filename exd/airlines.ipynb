{
 "cells": [
  {
   "cell_type": "code",
   "execution_count": 1,
   "metadata": {
    "collapsed": true
   },
   "outputs": [],
   "source": [
    "import re"
   ]
  },
  {
   "cell_type": "code",
   "execution_count": 2,
   "metadata": {
    "collapsed": false
   },
   "outputs": [
    {
     "data": {
      "text/plain": [
       "1579"
      ]
     },
     "execution_count": 2,
     "metadata": {},
     "output_type": "execute_result"
    }
   ],
   "source": [
    "airlines_rdd = sc.textFile('data/ontime/airlines.csv')\n",
    "airlines_rdd.cache()\n",
    "airlines_rdd.count()"
   ]
  },
  {
   "cell_type": "code",
   "execution_count": 3,
   "metadata": {
    "collapsed": false
   },
   "outputs": [
    {
     "data": {
      "text/plain": [
       "[[u'19031', u'Mackey International Inc.: MAC'],\n",
       " [u'19032', u'Munz Northern Airlines Inc.: XY'],\n",
       " [u'19033', u'Cochise Airlines Inc.: COC'],\n",
       " [u'19034', u'Golden Gate Airlines Inc.: GSA'],\n",
       " [u'19035', u'Aeromech Inc.: RZZ'],\n",
       " [u'19036', u'Golden West Airlines Co.: GLW'],\n",
       " [u'19037', u'Puerto Rico Intl Airlines: PRN'],\n",
       " [u'19038', u'Air America Inc.: STZ'],\n",
       " [u'19039', u'Swift Aire Lines Inc.: SWT'],\n",
       " [u'19040', u'American Central Airlines: TSF']]"
      ]
     },
     "execution_count": 3,
     "metadata": {},
     "output_type": "execute_result"
    }
   ],
   "source": [
    "airlines_rdd.map(lambda l: l.split(',')).take(10)\n",
    "airlines = airlines_rdd.map(lambda l: re.sub(r'\"', '', l)).map(lambda l: l.split(','))\n",
    "airlines.take(10)"
   ]
  },
  {
   "cell_type": "code",
   "execution_count": 4,
   "metadata": {
    "collapsed": false
   },
   "outputs": [
    {
     "data": {
      "text/plain": [
       "MapPartitionsRDD[6] at textFile at NativeMethodAccessorImpl.java:-2"
      ]
     },
     "execution_count": 4,
     "metadata": {},
     "output_type": "execute_result"
    }
   ],
   "source": [
    "flight_rdd = sc.textFile('data/ontime/flights.csv')\n",
    "flight_rdd.cache()"
   ]
  },
  {
   "cell_type": "code",
   "execution_count": 5,
   "metadata": {
    "collapsed": false
   },
   "outputs": [
    {
     "data": {
      "text/plain": [
       "[u'2014-04-01,19805,1,JFK,LAX,0854,-6.00,1217,2.00,355.00,2475.00',\n",
       " u'2014-04-01,19805,2,LAX,JFK,0944,14.00,1736,-29.00,269.00,2475.00',\n",
       " u'2014-04-01,19805,3,JFK,LAX,1224,-6.00,1614,39.00,371.00,2475.00',\n",
       " u'2014-04-01,19805,4,LAX,JFK,1240,25.00,2028,-27.00,264.00,2475.00',\n",
       " u'2014-04-01,19805,5,DFW,HNL,1300,-5.00,1650,15.00,510.00,3784.00',\n",
       " u'2014-04-01,19805,6,OGG,DFW,1901,126.00,0640,95.00,385.00,3711.00',\n",
       " u'2014-04-01,19805,7,DFW,OGG,1410,125.00,1743,138.00,497.00,3711.00',\n",
       " u'2014-04-01,19805,8,HNL,DFW,1659,4.00,0458,-22.00,398.00,3784.00',\n",
       " u'2014-04-01,19805,9,JFK,LAX,0648,-7.00,1029,19.00,365.00,2475.00',\n",
       " u'2014-04-01,19805,10,LAX,JFK,2156,21.00,0556,1.00,265.00,2475.00']"
      ]
     },
     "execution_count": 5,
     "metadata": {},
     "output_type": "execute_result"
    }
   ],
   "source": [
    "flight_rdd.take(10)"
   ]
  },
  {
   "cell_type": "code",
   "execution_count": 7,
   "metadata": {
    "collapsed": false
   },
   "outputs": [
    {
     "data": {
      "text/plain": [
       "476881"
      ]
     },
     "execution_count": 7,
     "metadata": {},
     "output_type": "execute_result"
    }
   ],
   "source": [
    "flight_rdd.count()"
   ]
  },
  {
   "cell_type": "code",
   "execution_count": 37,
   "metadata": {
    "collapsed": true
   },
   "outputs": [],
   "source": [
    "from datetime import datetime\n",
    "from operator import add\n",
    "from __future__ import division"
   ]
  },
  {
   "cell_type": "code",
   "execution_count": 11,
   "metadata": {
    "collapsed": false
   },
   "outputs": [
    {
     "data": {
      "text/plain": [
       "110223"
      ]
     },
     "execution_count": 11,
     "metadata": {},
     "output_type": "execute_result"
    }
   ],
   "source": [
    "airline_over10 = sqlContext.sql(\"SELECT airline FROM flight WHERE dep_delay >= 10\")\n",
    "airline_over10.count()"
   ]
  },
  {
   "cell_type": "code",
   "execution_count": 43,
   "metadata": {
    "collapsed": false
   },
   "outputs": [
    {
     "data": {
      "text/plain": [
       "273610"
      ]
     },
     "execution_count": 43,
     "metadata": {},
     "output_type": "execute_result"
    }
   ],
   "source": [
    "airline_under0 = sqlContext.sql(\"SELECT airline FROM flight WHERE dep_delay < 0\")\n",
    "airline_under0.count()"
   ]
  },
  {
   "cell_type": "code",
   "execution_count": 18,
   "metadata": {
    "collapsed": false
   },
   "outputs": [],
   "source": [
    "flight_airline = flight_rdd.map(lambda l: l.split(',')).map(lambda a: (a[1], float(a[6]))).reduceByKey(add).join(airlines)"
   ]
  },
  {
   "cell_type": "code",
   "execution_count": 22,
   "metadata": {
    "collapsed": false
   },
   "outputs": [
    {
     "data": {
      "text/plain": [
       "[(u'19393', (1321080.0, u'Southwest Airlines Co.: WN')),\n",
       " (u'20366', (681665.0, u'ExpressJet Airlines Inc.: EV')),\n",
       " (u'19790', (366658.0, u'Delta Air Lines Inc.: DL')),\n",
       " (u'19977', (346069.0, u'United Air Lines Inc.: UA')),\n",
       " (u'20304', (301694.0, u'SkyWest Airlines Inc.: OO')),\n",
       " (u'19805', (291244.0, u'American Airlines Inc.: AA')),\n",
       " (u'20398', (242241.0, u'Envoy Air: MQ')),\n",
       " (u'20409', (171483.0, u'JetBlue Airways: B6')),\n",
       " (u'20355', (136810.0, u'US Airways Inc.: US')),\n",
       " (u'20436', (51949.0, u'Frontier Airlines Inc.: F9'))]"
      ]
     },
     "execution_count": 22,
     "metadata": {},
     "output_type": "execute_result"
    }
   ],
   "source": [
    "flight_airline.takeOrdered(10, lambda s: -s[1][0])"
   ]
  },
  {
   "cell_type": "code",
   "execution_count": 34,
   "metadata": {
    "collapsed": false
   },
   "outputs": [],
   "source": [
    "flight_count = flight_rdd.map(lambda l: l.split(',')).map(lambda a: (a[1], 1)).reduceByKey(add)#.takeOrdered(10, lambda k: -k[1])"
   ]
  },
  {
   "cell_type": "code",
   "execution_count": 62,
   "metadata": {
    "collapsed": false
   },
   "outputs": [],
   "source": [
    "flight_delay = flight_rdd.map(lambda l: l.split(',')).map(lambda a: (a[1], float(a[6]))).reduceByKey(add)"
   ]
  },
  {
   "cell_type": "code",
   "execution_count": 63,
   "metadata": {
    "collapsed": false
   },
   "outputs": [
    {
     "data": {
      "text/plain": [
       "[(u'19805', (291244.0, 43256)),\n",
       " (u'20304', (301694.0, 49848)),\n",
       " (u'19393', (1321080.0, 98371)),\n",
       " (u'20366', (681665.0, 55437)),\n",
       " (u'20436', (51949.0, 5960)),\n",
       " (u'20355', (136810.0, 34266)),\n",
       " (u'19977', (346069.0, 39244)),\n",
       " (u'19690', (-12936.0, 5885)),\n",
       " (u'20409', (171483.0, 20633)),\n",
       " (u'20437', (41718.0, 8163))]"
      ]
     },
     "execution_count": 63,
     "metadata": {},
     "output_type": "execute_result"
    }
   ],
   "source": [
    "flgight_avg_dalay = flight_delay.join(flight_count)\n",
    "flgight_avg_dalay.take(10)"
   ]
  },
  {
   "cell_type": "code",
   "execution_count": 64,
   "metadata": {
    "collapsed": false
   },
   "outputs": [
    {
     "data": {
      "text/plain": [
       "[(u'19393', (13.429567657134724, u'Southwest Airlines Co.: WN')),\n",
       " (u'20366', (12.296210112379818, u'ExpressJet Airlines Inc.: EV')),\n",
       " (u'19977', (8.818392620527979, u'United Air Lines Inc.: UA')),\n",
       " (u'20436', (8.716275167785234, u'Frontier Airlines Inc.: F9')),\n",
       " (u'20409', (8.31110357194785, u'JetBlue Airways: B6')),\n",
       " (u'20398', (7.372135487994157, u'Envoy Air: MQ')),\n",
       " (u'21171', (6.989682212133719, u'Virgin America: VX')),\n",
       " (u'19805', (6.733031255779545, u'American Airlines Inc.: AA')),\n",
       " (u'20304', (6.05227892794094, u'SkyWest Airlines Inc.: OO')),\n",
       " (u'19790', (5.597661140117859, u'Delta Air Lines Inc.: DL'))]"
      ]
     },
     "execution_count": 64,
     "metadata": {},
     "output_type": "execute_result"
    }
   ],
   "source": [
    "flgight_avg_dalay.map(lambda i: (i[0], i[1][0]/i[1][1])).join(airlines).takeOrdered(10, lambda k: -k[1][0])"
   ]
  },
  {
   "cell_type": "code",
   "execution_count": 7,
   "metadata": {
    "collapsed": true
   },
   "outputs": [],
   "source": [
    "from pyspark.sql import SQLContext, Row\n",
    "sqlContext = SQLContext(sc)"
   ]
  },
  {
   "cell_type": "code",
   "execution_count": 50,
   "metadata": {
    "collapsed": true
   },
   "outputs": [],
   "source": [
    "flights = flight_rdd.map(lambda l: l.split(',')).map(lambda l: Row(d=datetime.strptime(l[0], \"%Y-%m-%d\"),\n",
    "                                                                  airline=l[1],\n",
    "                                                                  flightnum=l[2],\n",
    "                                                                  origin=l[3],\n",
    "                                                                  dest=l[4],\n",
    "                                                                  dep=float(l[5]),\n",
    "                                                                  dep_delay=float(l[6]),\n",
    "                                                                  arv=float(l[7]),\n",
    "                                                                  arv_delay=float(l[8]),\n",
    "                                                                  airtime=float(l[9]),\n",
    "                                                                  distance=float(l[10])))\n",
    "flight_df = sqlContext.createDataFrame(flights)\n",
    "# schemaFlight.registerTempTable(\"flight\")\n",
    "\n"
   ]
  },
  {
   "cell_type": "code",
   "execution_count": 51,
   "metadata": {
    "collapsed": false
   },
   "outputs": [
    {
     "data": {
      "text/plain": [
       "pyspark.sql.dataframe.DataFrame"
      ]
     },
     "execution_count": 51,
     "metadata": {},
     "output_type": "execute_result"
    }
   ],
   "source": [
    "type(flight_df)"
   ]
  },
  {
   "cell_type": "code",
   "execution_count": 52,
   "metadata": {
    "collapsed": false
   },
   "outputs": [
    {
     "data": {
      "text/plain": [
       "476881"
      ]
     },
     "execution_count": 52,
     "metadata": {},
     "output_type": "execute_result"
    }
   ],
   "source": [
    "flight_df.count()"
   ]
  },
  {
   "cell_type": "code",
   "execution_count": 53,
   "metadata": {
    "collapsed": false
   },
   "outputs": [
    {
     "data": {
      "text/plain": [
       "0.0011992737446144216"
      ]
     },
     "execution_count": 53,
     "metadata": {},
     "output_type": "execute_result"
    }
   ],
   "source": [
    "flight_df.corr('dep_delay', 'distance')"
   ]
  },
  {
   "cell_type": "code",
   "execution_count": 54,
   "metadata": {
    "collapsed": false
   },
   "outputs": [
    {
     "data": {
      "text/plain": [
       "0.9423668636533158"
      ]
     },
     "execution_count": 54,
     "metadata": {},
     "output_type": "execute_result"
    }
   ],
   "source": [
    "flight_df.corr('dep_delay', 'arv_delay')"
   ]
  },
  {
   "cell_type": "code",
   "execution_count": 55,
   "metadata": {
    "collapsed": true
   },
   "outputs": [],
   "source": [
    "df = flight_df.toPandas()"
   ]
  },
  {
   "cell_type": "code",
   "execution_count": 56,
   "metadata": {
    "collapsed": false
   },
   "outputs": [
    {
     "data": {
      "text/plain": [
       "pandas.core.frame.DataFrame"
      ]
     },
     "execution_count": 56,
     "metadata": {},
     "output_type": "execute_result"
    }
   ],
   "source": [
    "type(df)"
   ]
  },
  {
   "cell_type": "code",
   "execution_count": null,
   "metadata": {
    "collapsed": true
   },
   "outputs": [],
   "source": []
  }
 ],
 "metadata": {
  "kernelspec": {
   "display_name": "Python 2",
   "language": "python",
   "name": "python2"
  },
  "language_info": {
   "codemirror_mode": {
    "name": "ipython",
    "version": 2
   },
   "file_extension": ".py",
   "mimetype": "text/x-python",
   "name": "python",
   "nbconvert_exporter": "python",
   "pygments_lexer": "ipython2",
   "version": "2.7.9"
  }
 },
 "nbformat": 4,
 "nbformat_minor": 0
}
