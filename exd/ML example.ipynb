{
 "cells": [
  {
   "cell_type": "code",
   "execution_count": 1,
   "metadata": {
    "collapsed": true
   },
   "outputs": [],
   "source": [
    "from pyspark import SparkContext\n",
    "from pyspark.ml import Pipeline\n",
    "from pyspark.ml.classification import LogisticRegression\n",
    "from pyspark.ml.feature import HashingTF, Tokenizer\n",
    "from pyspark.sql import Row, SQLContext"
   ]
  },
  {
   "cell_type": "code",
   "execution_count": null,
   "metadata": {
    "collapsed": true
   },
   "outputs": [],
   "source": [
    "sc = SparkContext(appName=\"SimpleTextClassificationPipeline\")\n",
    "sqlContext = SQLContext(sc)\n",
    "\n",
    "# Prepare training documents, which are labeled.\n",
    "LabeledDocument = Row(\"id\", \"text\", \"label\")\n",
    "training = sc.parallelize([(0L, \"a b c d e spark\", 1.0),\n",
    "                           (1L, \"b d\", 0.0),\n",
    "                           (2L, \"spark f g h\", 1.0),\n",
    "                           (3L, \"hadoop mapreduce\", 0.0)]) \\\n",
    "    .map(lambda x: LabeledDocument(*x)).toDF()\n",
    "\n",
    "# Configure an ML pipeline, which consists of tree stages: tokenizer, hashingTF, and lr.\n",
    "tokenizer = Tokenizer(inputCol=\"text\", outputCol=\"words\")\n",
    "hashingTF = HashingTF(inputCol=tokenizer.getOutputCol(), outputCol=\"features\")\n",
    "lr = LogisticRegression(maxIter=10, regParam=0.01)\n",
    "pipeline = Pipeline(stages=[tokenizer, hashingTF, lr])\n",
    "\n",
    "# Fit the pipeline to training documents.\n",
    "model = pipeline.fit(training)\n",
    "\n",
    "# Prepare test documents, which are unlabeled.\n",
    "Document = Row(\"id\", \"text\")\n",
    "test = sc.parallelize([(4L, \"spark i j k\"),\n",
    "                       (5L, \"l m n\"),\n",
    "                       (6L, \"mapreduce spark\"),\n",
    "                       (7L, \"apache hadoop\")]) \\\n",
    "    .map(lambda x: Document(*x)).toDF()\n",
    "\n",
    "# Make predictions on test documents and print columns of interest.\n",
    "prediction = model.transform(test)\n",
    "selected = prediction.select(\"id\", \"text\", \"prediction\")\n",
    "for row in selected.collect():\n",
    "    print row\n",
    "\n",
    "sc.stop()"
   ]
  }
 ],
 "metadata": {
  "kernelspec": {
   "display_name": "Python 2",
   "language": "python",
   "name": "python2"
  },
  "language_info": {
   "codemirror_mode": {
    "name": "ipython",
    "version": 2
   },
   "file_extension": ".py",
   "mimetype": "text/x-python",
   "name": "python",
   "nbconvert_exporter": "python",
   "pygments_lexer": "ipython2",
   "version": "2.7.9"
  }
 },
 "nbformat": 4,
 "nbformat_minor": 0
}
