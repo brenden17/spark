{
 "metadata": {
  "name": "",
  "signature": "sha256:e8231122b1ae6a3388403d694daa2297268ba848d8267915e6c46debad2f5ab3"
 },
 "nbformat": 3,
 "nbformat_minor": 0,
 "worksheets": [
  {
   "cells": [
    {
     "cell_type": "code",
     "collapsed": false,
     "input": [
      "# TODO: Replace <FILL IN> with appropriate code\n",
      "# Manually calculate your answer and represent the vector as a list of integers values.\n",
      "# For example, [2, 4, 8].\n",
      "x = map(lambda x: x*3, [1, -2, 0])\n",
      "y = map(lambda x: x*2, [2, 4, 8])\n",
      "\n"
     ],
     "language": "python",
     "metadata": {},
     "outputs": [],
     "prompt_number": 8
    },
    {
     "cell_type": "code",
     "collapsed": false,
     "input": [
      "from test_helper import Test\n",
      "Test.assertEqualsHashed(x, 'e460f5b87531a2b60e0f55c31b2e49914f779981',\n",
      "                        'incorrect value for vector x')\n",
      "Test.assertEqualsHashed(y, 'e2d37ff11427dbac7f833a5a7039c0de5a740b1e',\n",
      "                        'incorrect value for vector y')"
     ],
     "language": "python",
     "metadata": {},
     "outputs": [
      {
       "output_type": "stream",
       "stream": "stdout",
       "text": [
        "1 test passed.\n",
        "1 test passed.\n"
       ]
      }
     ],
     "prompt_number": 9
    },
    {
     "cell_type": "code",
     "collapsed": false,
     "input": [
      "# TODO: Replace <FILL IN> with appropriate code\n",
      "# Manually calculate your answer and represent the vector as a list of integers values.\n",
      "x1 = [1, 2, 3]\n",
      "y1 = [4, 5, 6]\n",
      "z = map(lambda x: x[0] * x[1], zip(x1, y1))\n",
      "print z"
     ],
     "language": "python",
     "metadata": {},
     "outputs": [
      {
       "output_type": "stream",
       "stream": "stdout",
       "text": [
        "[4, 10, 18]\n"
       ]
      }
     ],
     "prompt_number": 14
    },
    {
     "cell_type": "code",
     "collapsed": false,
     "input": [
      "Test.assertEqualsHashed(z, '4b5fe28ee2d274d7e0378bf993e28400f66205c2',\n",
      "                        'incorrect value for vector z')"
     ],
     "language": "python",
     "metadata": {},
     "outputs": [
      {
       "output_type": "stream",
       "stream": "stdout",
       "text": [
        "1 test passed.\n"
       ]
      }
     ],
     "prompt_number": 15
    },
    {
     "cell_type": "code",
     "collapsed": false,
     "input": [
      "c1 = sum(map(lambda x: x[0] * x[1], zip([1, -3], [4, 5])))\n",
      "c2 = sum(map(lambda x: x[0] * x[1], zip([3, 4, 5], [1, 2, 3])))"
     ],
     "language": "python",
     "metadata": {},
     "outputs": [],
     "prompt_number": 18
    },
    {
     "cell_type": "code",
     "collapsed": false,
     "input": [
      "Test.assertEqualsHashed(c1, '8d7a9046b6a6e21d66409ad0849d6ab8aa51007c', 'incorrect value for c1')\n",
      "Test.assertEqualsHashed(c2, '887309d048beef83ad3eabf2a79a64a389ab1c9f', 'incorrect value for c2')"
     ],
     "language": "python",
     "metadata": {},
     "outputs": [
      {
       "output_type": "stream",
       "stream": "stdout",
       "text": [
        "1 test passed.\n",
        "1 test passed.\n"
       ]
      }
     ],
     "prompt_number": 19
    },
    {
     "cell_type": "code",
     "collapsed": false,
     "input": [
      "def dot(l1, l2):\n",
      "    for x in l1:\n",
      "    \n",
      "\n",
      "zip([[1, 2, 3], [4, 5, 6]], [[1, 2], [3, 4], [5, 6]])\n",
      "# X = map(lambda x: x[0] * x[1], zip([[1, 2, 3], [4, 5, 6]], [[1, 3, 4], [2, 4, 6]]))\n",
      "# Y = <FILL IN>"
     ],
     "language": "python",
     "metadata": {},
     "outputs": [
      {
       "metadata": {},
       "output_type": "pyout",
       "prompt_number": 22,
       "text": [
        "[([1, 2, 3], [1, 2]), ([4, 5, 6], [3, 4])]"
       ]
      }
     ],
     "prompt_number": 22
    },
    {
     "cell_type": "code",
     "collapsed": false,
     "input": [
      "Test.assertEqualsHashed(X, 'c2ada2598d8a499e5dfb66f27a24f444483cba13',\n",
      "                        'incorrect value for matrix X')\n",
      "Test.assertEqualsHashed(Y, 'f985daf651531b7d776523836f3068d4c12e4519',\n",
      "                        'incorrect value for matrix Y')"
     ],
     "language": "python",
     "metadata": {},
     "outputs": []
    },
    {
     "cell_type": "code",
     "collapsed": false,
     "input": [
      "import numpy as np"
     ],
     "language": "python",
     "metadata": {},
     "outputs": [],
     "prompt_number": 23
    },
    {
     "cell_type": "code",
     "collapsed": false,
     "input": [
      "# TODO: Replace <FILL IN> with appropriate code\n",
      "# Create a numpy array with the values 1, 2, 3\n",
      "simpleArray = np.array([1, 2, 3])\n",
      "# Perform the scalar product of 5 and the numpy array\n",
      "timesFive = 5 * simpleArray\n",
      "print simpleArray\n",
      "print timesFive"
     ],
     "language": "python",
     "metadata": {},
     "outputs": [
      {
       "output_type": "stream",
       "stream": "stdout",
       "text": [
        "[1 2 3]\n",
        "[ 5 10 15]\n"
       ]
      }
     ],
     "prompt_number": 26
    },
    {
     "cell_type": "code",
     "collapsed": false,
     "input": [
      "Test.assertTrue(np.all(timesFive == [5, 10, 15]), 'incorrect value for timesFive')"
     ],
     "language": "python",
     "metadata": {},
     "outputs": [
      {
       "output_type": "stream",
       "stream": "stdout",
       "text": [
        "1 test passed.\n"
       ]
      }
     ],
     "prompt_number": 27
    },
    {
     "cell_type": "code",
     "collapsed": false,
     "input": [
      "u = np.arange(0, 5, .5)\n",
      "v = np.arange(5, 10, .5)\n",
      "\n",
      "elementWise = u * v\n",
      "dotProduct = np.dot(u, v)\n",
      "print 'u: {0}'.format(u)\n",
      "print 'v: {0}'.format(v)\n",
      "print '\\nelementWise\\n{0}'.format(elementWise)\n",
      "print '\\ndotProduct\\n{0}'.format(dotProduct)"
     ],
     "language": "python",
     "metadata": {},
     "outputs": [
      {
       "output_type": "stream",
       "stream": "stdout",
       "text": [
        "u: [ 0.   0.5  1.   1.5  2.   2.5  3.   3.5  4.   4.5]\n",
        "v: [ 5.   5.5  6.   6.5  7.   7.5  8.   8.5  9.   9.5]\n",
        "\n",
        "elementWise\n",
        "[  0.     2.75   6.     9.75  14.    18.75  24.    29.75  36.    42.75]\n",
        "\n",
        "dotProduct\n",
        "183.75\n"
       ]
      }
     ],
     "prompt_number": 28
    },
    {
     "cell_type": "code",
     "collapsed": false,
     "input": [
      "Test.assertTrue(np.all(elementWise == [ 0., 2.75, 6., 9.75, 14., 18.75, 24., 29.75, 36., 42.75]),\n",
      "                'incorrect value for elementWise')\n",
      "Test.assertEquals(dotProduct, 183.75, 'incorrect value for dotProduct')"
     ],
     "language": "python",
     "metadata": {},
     "outputs": [
      {
       "output_type": "stream",
       "stream": "stdout",
       "text": [
        "1 test passed.\n",
        "1 test passed.\n"
       ]
      }
     ],
     "prompt_number": 29
    },
    {
     "cell_type": "code",
     "collapsed": false,
     "input": [
      "from numpy.linalg import inv\n",
      "\n",
      "A = np.matrix([[1,2,3,4],[5,6,7,8]])\n",
      "print 'A:\\n{0}'.format(A)\n",
      "# Print A transpose\n",
      "print '\\nA transpose:\\n{0}'.format(A.T)\n",
      "\n",
      "# Multiply A by A transpose\n",
      "AAt = A * A.T\n",
      "print '\\nAAt:\\n{0}'.format(AAt)\n",
      "\n",
      "# Invert AAt with np.linalg.inv()\n",
      "AAtInv = np.linalg.inv(AAt)\n",
      "print '\\nAAtInv:\\n{0}'.format(AAtInv)\n",
      "\n",
      "# Show inverse times matrix equals identity\n",
      "# We round due to numerical precision\n",
      "print '\\nAAtInv * AAt:\\n{0}'.format((AAtInv * AAt).round(4))\n",
      "\n"
     ],
     "language": "python",
     "metadata": {},
     "outputs": [
      {
       "output_type": "stream",
       "stream": "stdout",
       "text": [
        "A:\n",
        "[[1 2 3 4]\n",
        " [5 6 7 8]]\n",
        "\n",
        "A transpose:\n",
        "[[1 5]\n",
        " [2 6]\n",
        " [3 7]\n",
        " [4 8]]\n",
        "\n",
        "AAt:\n",
        "[[ 30  70]\n",
        " [ 70 174]]\n",
        "\n",
        "AAtInv:\n",
        "[[ 0.54375 -0.21875]\n",
        " [-0.21875  0.09375]]\n",
        "\n",
        "AAtInv * AAt:\n",
        "[[ 1.  0.]\n",
        " [-0.  1.]]\n"
       ]
      }
     ],
     "prompt_number": 30
    },
    {
     "cell_type": "code",
     "collapsed": false,
     "input": [
      "Test.assertTrue(np.all(AAt == np.matrix([[30, 70], [70, 174]])), 'incorrect value for AAt')\n",
      "Test.assertTrue(np.allclose(AAtInv, np.matrix([[0.54375, -0.21875], [-0.21875, 0.09375]])),\n",
      "                'incorrect value for AAtInv')"
     ],
     "language": "python",
     "metadata": {},
     "outputs": [
      {
       "output_type": "stream",
       "stream": "stdout",
       "text": [
        "1 test passed.\n",
        "1 test passed.\n"
       ]
      }
     ],
     "prompt_number": 31
    },
    {
     "cell_type": "code",
     "collapsed": false,
     "input": [
      "features = np.array([1, 2, 3, 4])\n",
      "print 'features:\\n{0}'.format(features)\n",
      "\n",
      "# The last three elements of features\n",
      "lastThree = features[-3:]\n",
      "\n",
      "print '\\nlastThree:\\n{0}'.format(lastThree)"
     ],
     "language": "python",
     "metadata": {},
     "outputs": [
      {
       "output_type": "stream",
       "stream": "stdout",
       "text": [
        "features:\n",
        "[1 2 3 4]\n",
        "\n",
        "lastThree:\n",
        "[2 3 4]\n"
       ]
      }
     ],
     "prompt_number": 39
    },
    {
     "cell_type": "code",
     "collapsed": false,
     "input": [
      "Test.assertTrue(np.all(lastThree == [2, 3, 4]), 'incorrect value for lastThree')"
     ],
     "language": "python",
     "metadata": {},
     "outputs": [
      {
       "output_type": "stream",
       "stream": "stdout",
       "text": [
        "1 test passed.\n"
       ]
      }
     ],
     "prompt_number": 40
    },
    {
     "cell_type": "code",
     "collapsed": false,
     "input": [
      "zeros = np.zeros(8)\n",
      "ones = np.ones(8)\n",
      "print 'zeros:\\n{0}'.format(zeros)\n",
      "print '\\nones:\\n{0}'.format(ones)\n",
      "\n",
      "zerosThenOnes = np.hstack((zeros, ones))\n",
      "zerosAboveOnes = np.vstack((zeros, ones))\n",
      "\n",
      "print '\\nzerosThenOnes:\\n{0}'.format(zerosThenOnes)\n",
      "print '\\nzerosAboveOnes:\\n{0}'.format(zerosAboveOnes)"
     ],
     "language": "python",
     "metadata": {},
     "outputs": [
      {
       "output_type": "stream",
       "stream": "stdout",
       "text": [
        "zeros:\n",
        "[ 0.  0.  0.  0.  0.  0.  0.  0.]\n",
        "\n",
        "ones:\n",
        "[ 1.  1.  1.  1.  1.  1.  1.  1.]\n",
        "\n",
        "zerosThenOnes:\n",
        "[ 0.  0.  0.  0.  0.  0.  0.  0.  1.  1.  1.  1.  1.  1.  1.  1.]\n",
        "\n",
        "zerosAboveOnes:\n",
        "[[ 0.  0.  0.  0.  0.  0.  0.  0.]\n",
        " [ 1.  1.  1.  1.  1.  1.  1.  1.]]\n"
       ]
      }
     ],
     "prompt_number": 49
    },
    {
     "cell_type": "code",
     "collapsed": false,
     "input": [
      "Test.assertTrue(np.all(zerosThenOnes == [0,0,0,0,0,0,0,0,1,1,1,1,1,1,1,1]),\n",
      "                'incorrect value for zerosThenOnes')\n",
      "Test.assertTrue(np.all(zerosAboveOnes == [[0,0,0,0,0,0,0,0],[1,1,1,1,1,1,1,1]]),\n",
      "                'incorrect value for zerosAboveOnes')\n"
     ],
     "language": "python",
     "metadata": {},
     "outputs": [
      {
       "output_type": "stream",
       "stream": "stdout",
       "text": [
        "1 test passed.\n",
        "1 test passed.\n"
       ]
      }
     ],
     "prompt_number": 50
    },
    {
     "cell_type": "code",
     "collapsed": false,
     "input": [
      "from pyspark.mllib.linalg import DenseVector"
     ],
     "language": "python",
     "metadata": {},
     "outputs": [],
     "prompt_number": 51
    },
    {
     "cell_type": "code",
     "collapsed": false,
     "input": [
      "numpyVector = np.array([-3, -4, 5])\n",
      "print '\\nnumpyVector:\\n{0}'.format(numpyVector)\n",
      "\n",
      "# Create a DenseVector consisting of the values [3.0, 4.0, 5.0]\n",
      "myDenseVector = DenseVector([3.0, 4.0, 5.0])\n",
      "# Calculate the dot product between the two vectors.\n",
      "denseDotProduct = myDenseVector.dot(DenseVector(numpyVector))\n",
      "\n",
      "print 'myDenseVector:\\n{0}'.format(myDenseVector)\n",
      "print '\\ndenseDotProduct:\\n{0}'.format(denseDotProduct)\n",
      "\n"
     ],
     "language": "python",
     "metadata": {},
     "outputs": [
      {
       "output_type": "stream",
       "stream": "stdout",
       "text": [
        "\n",
        "numpyVector:\n",
        "[-3 -4  5]\n",
        "myDenseVector:\n",
        "[3.0,4.0,5.0]\n",
        "\n",
        "denseDotProduct:\n",
        "0.0\n"
       ]
      }
     ],
     "prompt_number": 57
    },
    {
     "cell_type": "code",
     "collapsed": false,
     "input": [
      "Test.assertTrue(isinstance(myDenseVector, DenseVector), 'myDenseVector is not a DenseVector')\n",
      "Test.assertTrue(np.allclose(myDenseVector, np.array([3., 4., 5.])),\n",
      "                'incorrect value for myDenseVector')\n",
      "Test.assertTrue(np.allclose(denseDotProduct, 0.0), 'incorrect value for denseDotProduct')"
     ],
     "language": "python",
     "metadata": {},
     "outputs": [
      {
       "output_type": "stream",
       "stream": "stdout",
       "text": [
        "1 test passed.\n",
        "1 test passed.\n",
        "1 test passed.\n"
       ]
      }
     ],
     "prompt_number": 58
    },
    {
     "cell_type": "markdown",
     "metadata": {},
     "source": [
      "## Lambda"
     ]
    },
    {
     "cell_type": "code",
     "collapsed": false,
     "input": [
      "def addS(x):\n",
      "    return x + 's'\n",
      "print type(addS)\n",
      "print addS\n",
      "print addS('cat')"
     ],
     "language": "python",
     "metadata": {},
     "outputs": [
      {
       "output_type": "stream",
       "stream": "stdout",
       "text": [
        "<type 'function'>\n",
        "<function addS at 0x7f52c6f54320>\n",
        "cats\n"
       ]
      }
     ],
     "prompt_number": 59
    },
    {
     "cell_type": "code",
     "collapsed": false,
     "input": [
      "addSLambda = lambda x: x + 's'\n",
      "print type(addSLambda)\n",
      "print addSLambda\n",
      "print addSLambda('cat')"
     ],
     "language": "python",
     "metadata": {},
     "outputs": [
      {
       "output_type": "stream",
       "stream": "stdout",
       "text": [
        "<type 'function'>\n",
        "<function <lambda> at 0x7f52c6f54140>\n",
        "cats\n"
       ]
      }
     ],
     "prompt_number": 60
    },
    {
     "cell_type": "code",
     "collapsed": false,
     "input": [
      "multiplyByTen = lambda x: x* 10\n",
      "print multiplyByTen(5)\n",
      "\n",
      "# Note that the function still shows its name as <lambda>\n",
      "print '\\n', multiplyByTen\n"
     ],
     "language": "python",
     "metadata": {},
     "outputs": [
      {
       "output_type": "stream",
       "stream": "stdout",
       "text": [
        "50\n",
        "\n",
        "<function <lambda> at 0x7f52c6f54500>\n"
       ]
      }
     ],
     "prompt_number": 62
    },
    {
     "cell_type": "code",
     "collapsed": false,
     "input": [
      "Test.assertEquals(multiplyByTen(10), 100, 'incorrect definition for multiplyByTen')"
     ],
     "language": "python",
     "metadata": {},
     "outputs": [
      {
       "output_type": "stream",
       "stream": "stdout",
       "text": [
        "1 test passed.\n"
       ]
      }
     ],
     "prompt_number": 63
    },
    {
     "cell_type": "code",
     "collapsed": false,
     "input": [
      "def plus(x, y):\n",
      "    return x + y\n",
      "\n",
      "def minus(x, y):\n",
      "    return x - y\n",
      "\n",
      "functions = [plus, minus]\n",
      "print functions[0](4, 5)\n",
      "print functions[1](4, 5)"
     ],
     "language": "python",
     "metadata": {},
     "outputs": [
      {
       "output_type": "stream",
       "stream": "stdout",
       "text": [
        "9\n",
        "-1\n"
       ]
      }
     ],
     "prompt_number": 64
    },
    {
     "cell_type": "code",
     "collapsed": false,
     "input": [
      "lambdaFunctions = [lambda x, y: x+y ,  lambda x, y: x-y]\n",
      "print lambdaFunctions[0](4, 5)\n",
      "print lambdaFunctions[1](4, 5)"
     ],
     "language": "python",
     "metadata": {},
     "outputs": [
      {
       "output_type": "stream",
       "stream": "stdout",
       "text": [
        "9\n",
        "-1\n"
       ]
      }
     ],
     "prompt_number": 65
    },
    {
     "cell_type": "code",
     "collapsed": false,
     "input": [
      "Test.assertEquals(lambdaFunctions[0](10, 10), 20, 'incorrect first lambdaFunction')\n",
      "Test.assertEquals(lambdaFunctions[1](10, 10), 0, 'incorrect second lambdaFunction')"
     ],
     "language": "python",
     "metadata": {},
     "outputs": [
      {
       "output_type": "stream",
       "stream": "stdout",
       "text": [
        "1 test passed.\n",
        "1 test passed.\n"
       ]
      }
     ],
     "prompt_number": 66
    },
    {
     "cell_type": "code",
     "collapsed": false,
     "input": [
      "# One-parameter function\n",
      "a1 = lambda x: x[0] + x[1]\n",
      "a2 = lambda (x0, x1): x0 + x1\n",
      "print 'a1( (3,4) ) = {0}'.format( a1( (3,4) ) )\n",
      "print 'a2( (3,4) ) = {0}'.format( a2( (3,4) ) )\n",
      "\n",
      "# Two-parameter function\n",
      "b1 = lambda x, y: (x[0] + y[0], x[1] + y[1])\n",
      "b2 = lambda (x0, x1), (y0, y1): (x0 + y0, x1 + y1)\n",
      "print '\\nb1( (1,2), (3,4) ) = {0}'.format( b1( (1,2), (3,4) ) )\n",
      "print 'b2( (1,2), (3,4) ) = {0}'.format( b2( (1,2), (3,4) ) )"
     ],
     "language": "python",
     "metadata": {},
     "outputs": [
      {
       "output_type": "stream",
       "stream": "stdout",
       "text": [
        "a1( (3,4) ) = 7\n",
        "a2( (3,4) ) = 7\n",
        "\n",
        "b1( (1,2), (3,4) ) = (4, 6)\n",
        "b2( (1,2), (3,4) ) = (4, 6)\n"
       ]
      }
     ],
     "prompt_number": 67
    },
    {
     "cell_type": "code",
     "collapsed": false,
     "input": [
      "swap1 = lambda x: (x[1], x[0])\n",
      "swap2 = lambda (x0, x1): (x1, x0)\n",
      "print 'swap1((1, 2)) = {0}'.format(swap1((1, 2)))\n",
      "print 'swap2((1, 2)) = {0}'.format(swap2((1, 2)))\n",
      "\n",
      "# Using either syntax, create a function that takes in a tuple with three values and returns a tuple\n",
      "# of (2nd value, 3rd value, 1st value).  E.g. (1, 2, 3) => (2, 3, 1)\n",
      "swapOrder = lambda x: (x[1], x[2], x[0])\n",
      "print 'swapOrder((1, 2, 3)) = {0}'.format(swapOrder((1, 2, 3)))\n",
      "\n",
      "# Using either syntax, create a function that takes in three tuples each with two values.  The\n",
      "# function should return a tuple with the values in the first position summed and the values in the\n",
      "# second position summed. E.g. (1, 2), (3, 4), (5, 6) => (1 + 3 + 5, 2 + 4 + 6) => (9, 12)\n",
      "sumThree = lambda (x0, x1), (y0, y1), (z0, z1): (x0 + y0 + z0, x1 + y1 + z1) \n",
      "print 'sumThree((1, 2), (3, 4), (5, 6)) = {0}'.format(sumThree((1, 2), (3, 4), (5, 6)))"
     ],
     "language": "python",
     "metadata": {},
     "outputs": [
      {
       "output_type": "stream",
       "stream": "stdout",
       "text": [
        "swap1((1, 2)) = (2, 1)\n",
        "swap2((1, 2)) = (2, 1)\n",
        "swapOrder((1, 2, 3)) = (2, 3, 1)\n",
        "sumThree((1, 2), (3, 4), (5, 6)) = (9, 12)\n"
       ]
      }
     ],
     "prompt_number": 75
    },
    {
     "cell_type": "code",
     "collapsed": false,
     "input": [
      "Test.assertEquals(swap1((1, 2)), (2, 1), 'incorrect definition for swap1')\n",
      "Test.assertEquals(swap2((1, 2)), (2, 1), 'incorrect definition for swap2')\n",
      "Test.assertEquals(swapOrder((1, 2, 3)), (2, 3, 1), 'incorrect definition fo swapOrder')\n",
      "Test.assertEquals(sumThree((1, 2), (3, 4), (5, 6)), (9, 12), 'incorrect definition for sumThree')"
     ],
     "language": "python",
     "metadata": {},
     "outputs": [
      {
       "output_type": "stream",
       "stream": "stdout",
       "text": [
        "1 test passed.\n",
        "1 test passed.\n",
        "1 test passed.\n",
        "1 test passed.\n"
       ]
      }
     ],
     "prompt_number": 76
    },
    {
     "cell_type": "code",
     "collapsed": false,
     "input": [
      "import traceback\n",
      "try:\n",
      "    exec \"lambda x: print x\"\n",
      "except:\n",
      "    traceback.print_exc()"
     ],
     "language": "python",
     "metadata": {},
     "outputs": [
      {
       "output_type": "stream",
       "stream": "stderr",
       "text": [
        "Traceback (most recent call last):\n",
        "  File \"<ipython-input-79-85c698e0fd5f>\", line 3, in <module>\n",
        "    exec \"lambda x: print x\"\n",
        "  File \"<string>\", line 1\n",
        "    lambda x: print x\n",
        "                  ^\n",
        "SyntaxError: invalid syntax\n"
       ]
      }
     ],
     "prompt_number": 79
    },
    {
     "cell_type": "code",
     "collapsed": false,
     "input": [
      "\n",
      "\n",
      "# Create a class to give our examples the same syntax as PySpark\n",
      "class FunctionalWrapper(object):\n",
      "    def __init__(self, data):\n",
      "        self.data = data\n",
      "    def map(self, function):\n",
      "        \"\"\"Call `map` on the items in `data` using the provided `function`\"\"\"\n",
      "        return FunctionalWrapper(map(function, self.data))\n",
      "    def reduce(self, function):\n",
      "        \"\"\"Call `reduce` on the items in `data` using the provided `function`\"\"\"\n",
      "        return reduce(function, self.data)\n",
      "    def filter(self, function):\n",
      "        \"\"\"Call `filter` on the items in `data` using the provided `function`\"\"\"\n",
      "        return FunctionalWrapper(filter(function, self.data))\n",
      "    def __eq__(self, other):\n",
      "        return (isinstance(other, self.__class__)\n",
      "            and self.__dict__ == other.__dict__)\n",
      "    def __getattr__(self, name):  return getattr(self.data, name)\n",
      "    def __getitem__(self, k):  return self.data.__getitem__(k)\n",
      "    def __repr__(self):  return 'FunctionalWrapper({0})'.format(repr(self.data))\n",
      "    def __str__(self):  return 'FunctionalWrapper({0})'.format(str(self.data))\n",
      "\n"
     ],
     "language": "python",
     "metadata": {},
     "outputs": [],
     "prompt_number": 81
    },
    {
     "cell_type": "code",
     "collapsed": false,
     "input": [
      "\n",
      "\n",
      "# Map example\n",
      "\n",
      "# Create some data\n",
      "mapData = FunctionalWrapper(range(5))\n",
      "\n",
      "# Define a function to be applied to each element\n",
      "f = lambda x: x + 3\n",
      "\n",
      "# Imperative programming: loop through and create a new object by applying f\n",
      "mapResult = FunctionalWrapper([])  # Initialize the result\n",
      "for element in mapData:\n",
      "    mapResult.append(f(element))  # Apply f and save the new value\n",
      "print 'Result from for loop: {0}'.format(mapResult)\n",
      "\n",
      "# Functional programming: use map rather than a for loop\n",
      "print 'Result from map call: {0}'.format(mapData.map(f))\n",
      "\n",
      "# Note that the results are the same but that the map function abstracts away the implementation\n",
      "# and requires less code\n",
      "\n"
     ],
     "language": "python",
     "metadata": {},
     "outputs": [
      {
       "output_type": "stream",
       "stream": "stdout",
       "text": [
        "Result from for loop: FunctionalWrapper([3, 4, 5, 6, 7])\n",
        "Result from map call: FunctionalWrapper([3, 4, 5, 6, 7])\n"
       ]
      }
     ],
     "prompt_number": 82
    },
    {
     "cell_type": "code",
     "collapsed": false,
     "input": [
      "\n",
      "\n",
      "# TODO: Replace <FILL IN> with appropriate code\n",
      "dataset = FunctionalWrapper(range(10))\n",
      "\n",
      "# Multiply each element by 5\n",
      "mapResult = dataset.map(lambda x: x*5)\n",
      "# Keep the even elements\n",
      "# Note that \"x % 2\" evaluates to the remainder of x divided by 2\n",
      "filterResult = dataset.filter(lambda x: x%2)\n",
      "# Sum the elements\n",
      "reduceResult = dataset.reduce(lambda x, y: x + y)\n",
      "\n",
      "print 'mapResult: {0}'.format(mapResult)\n",
      "print '\\nfilterResult: {0}'.format(filterResult)\n",
      "print '\\nreduceResult: {0}'.format(reduceResult)\n",
      "\n"
     ],
     "language": "python",
     "metadata": {},
     "outputs": [
      {
       "output_type": "stream",
       "stream": "stdout",
       "text": [
        "mapResult: FunctionalWrapper([0, 5, 10, 15, 20, 25, 30, 35, 40, 45])\n",
        "\n",
        "filterResult: FunctionalWrapper([1, 3, 5, 7, 9])\n",
        "\n",
        "reduceResult: 45\n"
       ]
      }
     ],
     "prompt_number": 86
    },
    {
     "cell_type": "code",
     "collapsed": false,
     "input": [
      "Test.assertEquals(mapResult, FunctionalWrapper([0, 5, 10, 15, 20, 25, 30, 35, 40, 45]),\n",
      "                  'incorrect value for mapResult')\n",
      "Test.assertEquals(filterResult, FunctionalWrapper([0, 2, 4, 6, 8]),\n",
      "                  'incorrect value for filterResult')\n",
      "Test.assertEquals(reduceResult, 45, 'incorrect value for reduceResult')\n",
      "\n"
     ],
     "language": "python",
     "metadata": {},
     "outputs": [
      {
       "output_type": "stream",
       "stream": "stdout",
       "text": [
        "1 test passed.\n",
        "1 test failed. incorrect value for filterResult\n",
        "1 test passed.\n"
       ]
      }
     ],
     "prompt_number": 87
    },
    {
     "cell_type": "code",
     "collapsed": false,
     "input": [
      "\n",
      "\n",
      "# Run this code to view Criteo's agreement\n",
      "# Note that some ad blocker software will prevent this IFrame from loading.\n",
      "# If this happens, open the webpage in a separate tab and follow the instructions from above.\n",
      "from IPython.lib.display import IFrame\n",
      "\n",
      "IFrame(\"http://labs.criteo.com/downloads/2014-kaggle-display-advertising-challenge-dataset/\",\n",
      "       600, 350)\n",
      "\n"
     ],
     "language": "python",
     "metadata": {},
     "outputs": [
      {
       "html": [
        "\n",
        "        <iframe\n",
        "            width=\"600\"\n",
        "            height=350\"\n",
        "            src=\"http://labs.criteo.com/downloads/2014-kaggle-display-advertising-challenge-dataset/\"\n",
        "            frameborder=\"0\"\n",
        "            allowfullscreen\n",
        "        ></iframe>\n",
        "        "
       ],
       "metadata": {},
       "output_type": "pyout",
       "prompt_number": 88,
       "text": [
        "<IPython.lib.display.IFrame at 0x7f52c6f2c550>"
       ]
      }
     ],
     "prompt_number": 88
    },
    {
     "cell_type": "code",
     "collapsed": false,
     "input": [
      "import os.path\n",
      "baseDir = os.path.join('data')\n",
      "inputPath = os.path.join('cs190', 'dac_sample.txt')\n",
      "fileName = os.path.join(baseDir, inputPath)\n",
      "\n",
      "if os.path.isfile(fileName):\n",
      "    rawData = (sc\n",
      "               .textFile(fileName, 2)\n",
      "               .map(lambda x: x.replace('\\t', ',')))  # work with either ',' or '\\t' separated data\n",
      "\n",
      "print rawData.take(1)\n",
      "rawDataCount = rawData.count()\n",
      "print rawDataCount\n",
      "# This line tests that the correct number of observations have been loaded\n",
      "assert rawDataCount == 100000, 'incorrect count for rawData'\n",
      "if rawDataCount == 100000:\n",
      "    print 'Criteo data loaded successfully!'\n",
      "\n"
     ],
     "language": "python",
     "metadata": {},
     "outputs": []
    }
   ],
   "metadata": {}
  }
 ]
}